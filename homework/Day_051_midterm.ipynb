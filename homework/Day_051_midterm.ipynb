{
 "cells": [
  {
   "cell_type": "markdown",
   "metadata": {},
   "source": [
    "## Load Package"
   ]
  },
  {
   "cell_type": "code",
   "execution_count": 1,
   "metadata": {},
   "outputs": [],
   "source": [
    "import os\n",
    "import numpy as np\n",
    "import pandas as pd\n",
    "from datetime import date"
   ]
  },
  {
   "cell_type": "code",
   "execution_count": 3,
   "metadata": {},
   "outputs": [],
   "source": [
    "from sklearn.pipeline import Pipeline\n",
    "from sklearn.preprocessing import StandardScaler, MinMaxScaler\n",
    "from sklearn.metrics import log_loss, roc_auc_score, auc, roc_curve\n",
    "from sklearn.linear_model import SGDClassifier, LogisticRegression\n",
    "from sklearn.model_selection import KFold, StratifiedKFold, GridSearchCV\n",
    "from sklearn.model_selection import train_test_split, cross_val_score\n",
    "\n",
    "DATA_ROOT = 'data/'"
   ]
  },
  {
   "cell_type": "markdown",
   "metadata": {},
   "source": [
    "## Read Data"
   ]
  },
  {
   "cell_type": "code",
   "execution_count": 5,
   "metadata": {},
   "outputs": [],
   "source": [
    "train = pd.read_csv(os.path.join(DATA_ROOT, 'train_offline.csv'))\n",
    "test = pd.read_csv(os.path.join(DATA_ROOT, 'test_offline.csv'))"
   ]
  },
  {
   "cell_type": "code",
   "execution_count": 6,
   "metadata": {},
   "outputs": [
    {
     "name": "stdout",
     "output_type": "stream",
     "text": [
      "train dataset shape: (1160742, 7)\n",
      "test dataset shape:(594142, 6)\n"
     ]
    }
   ],
   "source": [
    "print(f'training dataset shape: {train.shape}')\n",
    "print(f'testing dataset shape:{test.shape}')"
   ]
  },
  {
   "cell_type": "code",
   "execution_count": 9,
   "metadata": {},
   "outputs": [
    {
     "name": "stdout",
     "output_type": "stream",
     "text": [
      "======= training dataset: =======\n",
      "Missing values in Coupon_id: 413773\n",
      "Missing values in Discount_rate: 413773\n",
      "Missing values in Distance: 69826\n",
      "Missing values in Date_received: 413773\n",
      "Missing values in Date: 704033\n",
      "======= testing dataset: =======\n",
      "Missing values in Coupon_id: 287829\n",
      "Missing values in Discount_rate: 287829\n",
      "Missing values in Distance: 36177\n",
      "Missing values in Date_received: 287829\n"
     ]
    }
   ],
   "source": [
    "def CheckMissingValues(df):\n",
    "    for col in df.columns:\n",
    "        if np.sum(df[col].isnull()) != 0:\n",
    "            print(f'Missing values in {col}: {np.sum(df[col].isnull())}')\n",
    "    \n",
    "print(f'======= training dataset: =======')\n",
    "CheckMissingValues(train)\n",
    "print(f'======= testing dataset: =======')\n",
    "CheckMissingValues(test)"
   ]
  },
  {
   "cell_type": "code",
   "execution_count": null,
   "metadata": {},
   "outputs": [],
   "source": []
  }
 ],
 "metadata": {
  "kernelspec": {
   "display_name": "Python 3",
   "language": "python",
   "name": "python3"
  },
  "language_info": {
   "codemirror_mode": {
    "name": "ipython",
    "version": 3
   },
   "file_extension": ".py",
   "mimetype": "text/x-python",
   "name": "python",
   "nbconvert_exporter": "python",
   "pygments_lexer": "ipython3",
   "version": "3.7.3"
  }
 },
 "nbformat": 4,
 "nbformat_minor": 2
}
